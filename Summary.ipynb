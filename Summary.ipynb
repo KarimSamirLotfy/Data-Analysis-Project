{
 "cells": [
  {
   "cell_type": "markdown",
   "source": [
    "\r\n",
    "### Intel vs AMD CPU\r\n",
    "\r\n",
    "I found that Intel based CPU were more comman in all 3 countries which does show that Intel seems to have a bigger market share with laptop manufacturers\r\n",
    "\r\n",
    "also there seems to be that higher end Intel CPU are on average more expensive then there AMD counterpart, while mid range CPU are actually prety even with Intel having a higher price variation\r\n",
    "\r\n",
    "also Intel seems to be sold more in outliers which refrence super expensive High End models.\r\n",
    "\r\n",
    "\r\n",
    "### Intel vs AMD CPU\r\n",
    "\r\n",
    "I found that Intel based CPU were more comman in all 3 countries which does show that Intel seems to have a bigger market share with laptop manufacturers\r\n",
    "\r\n",
    "then i created a Regression model and used it to get a correlation between each variable and the price. there I found that the most correlated variables are 1. which GPU gen was used: RTX, GTX, No gaming GPU 2. was the cpu genration which was more influential than the CPU brand. so choosing Intel or AMD does not influence the price as much as choosing which cpu generation: 5, 7, 9 3. the type of the secondary storage seems to be more immportant than that of the capacity as it is more correlated\r\n",
    "\r\n",
    "then I wanted to test whether there was a diffrence in the average price of the laptops on each store\r\n",
    "\r\n",
    "and there was also it seems the french store is the more expensive and high end store as the laptops sold seem to be as the average price for laptops sold in france is higher than that of egypt and saudi.\r\n",
    "\r\n",
    "then I looked if there are any patterns between price and discount and contrary to comman belif there is no correlation but it seems that **Boulanger** store had both more expensive products with bigger discounts on many of them while **Jumia** seems to be cheaper while still puting discounts on it's products.\r\n",
    "\r\n",
    "After this I looked at which GPU's are paired with which CPU's and it is clear that Intel seems to appeal to both Gamers and non-gamers as it's CPU is paired with RTX sometimes and othertimes paired without any Gaming GPU while AMD seems to strugle with non-gamers as it is almost non existant\r\n",
    "\r\n",
    "then I show which combination of GPU generation and CPU generation is the most favored where the GTX 7th gen CPU are the most presented\r\n",
    "\r\n",
    "then I examine the average price of each GPU and CPU combiantion where I find that non gaming GPU are also very expensive when paired with a 9th gen CPu\r\n",
    "\r\n"
   ],
   "metadata": {}
  },
  {
   "cell_type": "markdown",
   "source": [],
   "metadata": {}
  }
 ],
 "metadata": {
  "orig_nbformat": 4,
  "language_info": {
   "name": "python"
  }
 },
 "nbformat": 4,
 "nbformat_minor": 2
}
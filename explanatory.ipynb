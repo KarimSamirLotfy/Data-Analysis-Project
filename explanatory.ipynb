{
 "cells": [
  {
   "cell_type": "markdown",
   "metadata": {
    "slideshow": {
     "slide_type": "slide"
    }
   },
   "source": [
    "# Laptops Dataset\n",
    "\n",
    "<div style=\"background-color:#B4DBE9; color:#636363;\">\n",
    "    <h1><center>Introduction</center></h1>\n",
    "</div>\n",
    "\n",
    "**Gaming Laptops** are a very widespread product sold in all parts of the wrold with a huge price varaition and quality variation. we explore today the realtion between price, the reigion, discount, cpu, gpu, ram.\n",
    "\n",
    "This Dataset was scrapped from Jumia.eg, Amazon.sa, Boulanger.fr\n"
   ]
  },
  {
   "cell_type": "markdown",
   "metadata": {
    "slideshow": {
     "slide_type": "skip"
    }
   },
   "source": [
    "Cleaning link i guess"
   ]
  },
  {
   "cell_type": "markdown",
   "metadata": {
    "slideshow": {
     "slide_type": "skip"
    }
   },
   "source": [
    "## Dataset Source (Scrapped)\n",
    "\n",
    "the Dataset consists of 3 scrapped ecommerce websites that were all scraped on the same day 1/5/2020.\n",
    "\n",
    "each of the websites is it's own format and structure.\n",
    "\n",
    "1- website 1: [Jumia](https://www.jumia.com.eg/) which is an egyptian ecommerce site that sells all products but is known for its tech deals and high discounts.\n",
    "![Jumia (Egypt)](pics/Egypt_site.png)\n",
    "\n",
    "2- [Amazon.sa](https://www.amazon.sa/) which is the subsidary of the famous company Amazon in Saudi Arabia (KSA).\n",
    "![Amazon (KSA)](pics/Saudi_site.png)\n",
    "\n",
    "3- [Boulanger](https://www.boulanger.com/) a local french eccomerce site that is famous for cheap prices espacially in the salles.\n",
    "![Boulanger (France)](pics/french_site.png)\n",
    "\n",
    "each of these site had a search term \"Gaming Laptop\" written in the search bar and then the result was scrapped for either 5 pages or till the end.\n",
    "\n",
    "_NB:this data was scrapped programmatically from 3 diffrent sites in 3 diffrent contries with a vpn to assure local data is shown._\n"
   ]
  },
  {
   "cell_type": "markdown",
   "metadata": {
    "slideshow": {
     "slide_type": "skip"
    }
   },
   "source": [
    "#\n",
    "<div style=\"background-color:#B4DBE9; color:#636363;\">\n",
    "    <h1><center>DataSet</center></h1>\n",
    "</div>\n",
    "Dataset Description\n"
   ]
  },
  {
   "cell_type": "markdown",
   "metadata": {
    "slideshow": {
     "slide_type": "skip"
    }
   },
   "source": [
    "\n",
    "<div style=\"background-color:#C8FBED; color:#636363;\">\n",
    "    <h3>Feature Description</h3>\n",
    "</div>"
   ]
  },
  {
   "cell_type": "markdown",
   "metadata": {
    "slideshow": {
     "slide_type": "skip"
    }
   },
   "source": [
    "## Laptops.csv \n",
    "\n",
    "    - this is the aggregated dataset that was created during the cleaning phase from merging the scraped data from all 3 sites\n",
    "\n",
    "1. __text:__ scraped text from the site \n",
    "\n",
    "2. __url:__ the url of the link that was scrapped\n",
    "\n",
    "3. __price:__ price in dollars after cleaning and unifing the dataset\n",
    "\n",
    "4. **cpu_name:** the name of the cpu like i7, Ryzen 5\n",
    "\n",
    "5. **cpu_gen:** the generation of the cpu, ex: generation 7, 9, 5\n",
    "\n",
    "6. **discount_value:** the percentage of the discount\n",
    "\n",
    "7. **store** the store from which this row was scrapped\n",
    "\n",
    "## egypt_store.csv\n",
    "\n",
    "> Original dataset that was scraped from Jumia.eg\n",
    "> further cleaning and feature extraction was done on this dataset during the cleaning phase\n",
    "1. **selection1_url:** url pointing to the link of the product\n",
    "\n",
    "2. **selection1_name:** name of the product as written on the site\n",
    "\n",
    "3. **selection1_discount:** discount value\n",
    "\n",
    "4. **selection1_price:** price of the product in EGP\n",
    "\n",
    "5. **selection1_brand:** Brand name (ex: Lenovo, DELL)\n",
    "\n",
    "6. **selection1_brand_url:** link to the main site of the brand like Lenovo\n",
    "\n",
    "## french store.csv \n",
    "> Original dataset that was scraped from Jumia.eg\n",
    "> further cleaning and feature extraction was done on this dataset during the cleaning phase\n",
    "\n",
    "1. **Title:** name of the product on the site\n",
    "\n",
    "2. **Title_link:** link to product\n",
    "\n",
    "3.**bestpoints:** dsplay info and other usefull info of the product \n",
    "**caracValue:** column with info about the specs of the laptop but it is not consistent so it has to be cleaned\n",
    "\n",
    "1. **caracValue1:** refresh rate of dsiplay \n",
    "\n",
    "2. **caracValue2:** cpu inforamtion\n",
    "\n",
    "3. **caracValue3** storage info\n",
    " \n",
    "4. **fix-price:** price in EUR\n",
    "\n",
    "5. **stock:** stock infromation also info about delivery \n",
    "\n",
    "6. **nb-opcom-1:** more specs like I/O ports and other modules \n",
    "\n",
    "7. **Le+:** more specs\n",
    "\n",
    "8. **priceBarre:** price before discount in EUR\n",
    "\n",
    "9. **priceDiscount:** discount\n",
    "\n",
    "## sa_store.csv\n",
    "> data scrapped from amazon KSA\n",
    "> all the laptop specs were cramped in the name of the product so a lot of cleaning had to be done to extract these features\n",
    "\n",
    "1. **selection1_name:** name of the product which has all the specs in it\n",
    "\n",
    "2. **selection1_url:** link to product\n",
    "\n",
    "3. **selection1_selection2:** price in SAR\n",
    "\n",
    "4. **selection1_selection2_url:** link to product\n",
    "\n"
   ]
  },
  {
   "cell_type": "markdown",
   "metadata": {
    "slideshow": {
     "slide_type": "skip"
    }
   },
   "source": [
    "#\n",
    "<div style=\"background-color:#B4DBE9; color:#636363;\">\n",
    "    <h1><center>Goals/Motives</center></h1>\n",
    "</div>\n",
    "\n",
    "1. predict the prices of the laptops using extra extracted features from the individul datasets and then combining them using Feature Engineering.\n",
    "\n",
    "2. Find the relation between discount_value and price \n",
    "\n",
    "3. Find patterns between what Laptop manufacturers choose pair between GPU's and CPU's and how this relates to the price of the product"
   ]
  },
  {
   "cell_type": "markdown",
   "metadata": {
    "slideshow": {
     "slide_type": "skip"
    }
   },
   "source": [
    "#\n",
    "<div style=\"background-color:#B4DBE9; color:#636363;\">\n",
    "    <h1><center>Cleaning</center></h1>\n",
    "</div>\n",
    "\n",
    "Three sites with 3 diffrent Languages won't be easy 👀"
   ]
  },
  {
   "cell_type": "markdown",
   "metadata": {
    "slideshow": {
     "slide_type": "skip"
    }
   },
   "source": [
    "### These are the main problem I had to fix. details on how I did that are in the [Cleaning notebook](/clean.ipynb)\n"
   ]
  },
  {
   "cell_type": "markdown",
   "metadata": {
    "slideshow": {
     "slide_type": "skip"
    }
   },
   "source": [
    "## sa_store.csv (Amazon.sa)\n",
    "> This Dataset was terrible as Amazon put all the features into 1 column which is the name of the product\n",
    "---\n",
    "> Even more the Sellers did not even have to write in english so some of the words were in english, some arabic and some Franco (Arabic letters with Enlish pronouciation). also some entries had both english and arabic letters in the same column\n",
    "---\n",
    "> Not all the results were even laptops some of them were simply Laptop accessories\n",
    "\n",
    "1. extract GPU info including GPU model number and generation\n",
    "2. extract CPU \n",
    "3. exrtact Ram info\n",
    "4. extract Storage info including Storage type and capacity \n",
    "5. dont forget there could also be a 2nd storage we need to account for\n",
    "6. remove Nan values\n",
    "7. Remove non Laptop Entries"
   ]
  },
  {
   "cell_type": "markdown",
   "metadata": {
    "slideshow": {
     "slide_type": "skip"
    }
   },
   "source": [
    "\n",
    "## egypt_store.csv (Jumia)\n",
    "> this Dataset had a lot of bad columns with many of the features in the name like the CPU type, Ram, Storage so they had to be extracted. luckly there was a pattern in how the site wrote it's info which I was sometimes able to exploit\n",
    "\n",
    "1. extract GPU info including GPU model number and generation\n",
    "2. extract CPU \n",
    "3. exrtact Ram info\n",
    "4. extract Storage info including Storage type and capacity \n",
    "5. dont forget there could also be a 2nd storage we need to account for\n",
    "6. remove Nan values\n",
    "7. make sure everything is consistent"
   ]
  },
  {
   "cell_type": "markdown",
   "metadata": {
    "slideshow": {
     "slide_type": "skip"
    }
   },
   "source": [
    "## french.csv (Boulangaire)\n",
    "> this was the most consistent and cleaned data as almost every feature was extracted on it's own \n",
    "---\n",
    "> A bit tricky as it was written in French so the extraction of the columns had to be done in french too.\n",
    "\n",
    "1. extract GPU info including GPU model number and generation\n",
    "2. extract CPU \n",
    "3. extract Weight\n",
    "4. extract Storage info including Storage type and capacity \n",
    "5. dont forget there could also be a 2nd storage we need to account for\n",
    "6. remove Nan values\n",
    "7. exrtact Ram info\n",
    "\n"
   ]
  },
  {
   "cell_type": "markdown",
   "metadata": {
    "slideshow": {
     "slide_type": "skip"
    }
   },
   "source": [
    "# Imports and Setup"
   ]
  },
  {
   "cell_type": "code",
   "execution_count": 1,
   "metadata": {
    "slideshow": {
     "slide_type": "skip"
    }
   },
   "outputs": [
    {
     "data": {
      "image/png": "[encoded data removed]",
      "text/plain": [
       "<Figure size 360x72 with 1 Axes>"
      ]
     },
     "metadata": {
      "needs_background": "light"
     },
     "output_type": "display_data"
    },
    {
     "data": {
      "image/png": "[encoded data removed]",
      "text/plain": [
       "<Figure size 360x72 with 1 Axes>"
      ]
     },
     "metadata": {
      "needs_background": "light"
     },
     "output_type": "display_data"
    },
    {
     "data": {
      "image/png": "[encoded data removed]",
      "text/plain": [
       "<Figure size 360x72 with 1 Axes>"
      ]
     },
     "metadata": {
      "needs_background": "light"
     },
     "output_type": "display_data"
    }
   ],
   "source": [
    "# data manupilation libary\n",
    "import pandas as pd \n",
    "import numpy as np\n",
    "# plotting and visualisations\n",
    "import seaborn as sb\n",
    "import matplotlib.pyplot as plt\n",
    "# regrex libary\n",
    "import re\n",
    "# statistics libary\n",
    "import statsmodels.api as sm\n",
    "# types\n",
    "from typing import List\n",
    "\n",
    "df_laptop= pd.read_csv('./clean/laptops.csv')\n",
    "df_fr= pd.read_csv('./clean/boulanger_store.csv')\n",
    "df_eg= pd.read_csv('./clean/jumia_store.csv')\n",
    "df_sa= pd.read_csv('./clean/amazon_sa_store.csv')\n",
    "df_laptop.head(1)\n",
    "\n",
    "# colors\n",
    "colors_blue = [\"#132C33\", \"#264D58\", '#17869E', '#51C4D3', '#B4DBE9']\n",
    "colors_dark = [\"#1F1F1F\", \"#313131\", '#636363', '#AEAEAE', '#DADADA']\n",
    "colors_green = ['#01411C','#4B6F44','#4F7942','#74C365','#D0F0C0']\n",
    "sb.palplot(colors_blue);\n",
    "sb.palplot(colors_green);\n",
    "sb.palplot(colors_dark);\n",
    "sb.set_palette(sb.color_palette(\"Paired\"))"
   ]
  },
  {
   "cell_type": "markdown",
   "metadata": {
    "slideshow": {
     "slide_type": "slide"
    }
   },
   "source": [
    "# Intel vs AMD\n",
    "show the diffrence between sales from intel and from AMD \n",
    "as we can see it seems that there are more intel laptops then there are AMD. \n",
    "\n"
   ]
  },
  {
   "cell_type": "code",
   "execution_count": 2,
   "metadata": {
    "slideshow": {
     "slide_type": "subslide"
    }
   },
   "outputs": [
    {
     "data": {
      "image/png": "[encoded data removed]",
      "text/plain": [
       "<Figure size 1080x720 with 2 Axes>"
      ]
     },
     "metadata": {
      "needs_background": "light"
     },
     "output_type": "display_data"
    }
   ],
   "source": [
    "# show Market Share of Intel VS AMD laptops\n",
    "sorted_counts= df_laptop.cpu_brand.value_counts()\n",
    "plt.rcParams['figure.figsize'] = [15, 10]\n",
    "plt.subplot(2, 2, 1) # 1 row , 2 cols, the 1st plot \n",
    "plt.pie(sorted_counts, labels = sorted_counts.index, startangle = 90, counterclock = False);\n",
    "plt.title('Portion of latops with CPU')\n",
    "# get percentage of CPU intel\n",
    "plt.subplot(2, 2, 2) # 1 row , 2 cols, the 2st plot \n",
    "sb.countplot(data = df_laptop, y='cpu_brand', order=None, orient=None, color=None);\n",
    "plt.yticks(ticks=[0,1], labels = [\"Intel\", \"AMD\"])\n",
    "plt.title('Number of laptops per CPU brand')\n",
    "plt.xlabel('number of laptops');\n",
    "plt.suptitle(\"number of laptops sold per CPU brand\", y = 1);"
   ]
  },
  {
   "cell_type": "markdown",
   "metadata": {
    "slideshow": {
     "slide_type": "slide"
    }
   },
   "source": [
    "# Comapre the price of Laptops with Intel Based CPU vs AMD based CPU\n",
    "\n",
    "Intel and AMD seem to have the same average price with AMD having a varity in price and Intel having more Outliers \n",
    "\n",
    "But taking another Look at the Data while splitting every CPU generation alone.\n",
    "\n",
    "it seems that Intel Laptops with 9th gen CPU are much more expensive then there AMD counterpart "
   ]
  },
  {
   "cell_type": "code",
   "execution_count": 3,
   "metadata": {
    "slideshow": {
     "slide_type": "subslide"
    }
   },
   "outputs": [
    {
     "data": {
      "image/png": "[encoded data removed]",
      "text/plain": [
       "<Figure size 1080x360 with 2 Axes>"
      ]
     },
     "metadata": {
      "needs_background": "light"
     },
     "output_type": "display_data"
    }
   ],
   "source": [
    "plt.rcParams['figure.figsize'] = [15, 5]\n",
    "plt.subplot(1, 2, 1)\n",
    "sb.boxplot(data=df_laptop, x='cpu_brand', y='price');\n",
    "plt.ylim((0, 6500))\n",
    "plt.title('Price per CPU brand')\n",
    "plt.xlabel('CPU brand')\n",
    "plt.ylabel('Price in US dollars');\n",
    "plt.subplot(1, 2, 2)\n",
    "sb.boxplot(data=df_laptop, x='cpu_brand', hue= 'cpu_gen', y='price');\n",
    "plt.ylim((0, 6500))\n",
    "plt.title('Price per CPU brand and generation')\n",
    "plt.xlabel('CPU brand')\n",
    "plt.ylabel('Price in US dollars');\n",
    "plt.suptitle(\"Comapre each CPU with price\", y = 1.04);"
   ]
  },
  {
   "cell_type": "code",
   "execution_count": 4,
   "metadata": {
    "slideshow": {
     "slide_type": "subslide"
    }
   },
   "outputs": [
    {
     "data": {
      "image/png": "[encoded data removed]",
      "text/plain": [
       "<Figure size 604.8x288 with 3 Axes>"
      ]
     },
     "metadata": {
      "needs_background": "light"
     },
     "output_type": "display_data"
    }
   ],
   "source": [
    "# comapre each generation side by side \n",
    "# plt.title('CPU price per generation comparison')\n",
    "# plt.xlabel('CPu brand')\n",
    "# plt.ylabel('Price in US dollars');\n",
    "g = sb.catplot(x=\"cpu_brand\", y=\"price\",\n",
    "                col=\"cpu_gen\",\n",
    "                data=df_laptop, kind=\"box\",\n",
    "                height=4, aspect=.7);\n",
    "plt.suptitle(\"Comapre each CPU with price\", y = 1.04);"
   ]
  },
  {
   "cell_type": "code",
   "execution_count": null,
   "metadata": {
    "slideshow": {
     "slide_type": "skip"
    }
   },
   "outputs": [],
   "source": []
  },
  {
   "cell_type": "markdown",
   "metadata": {
    "slideshow": {
     "slide_type": "skip"
    }
   },
   "source": [
    "# Feature Engineering \n",
    "## Motives \n",
    "predict the prices of the laptops using extra extracted features from the individul datasets\n",
    "\n",
    "1. extract GPU types from the names of the rows\n",
    "2. extract the ram number when availaible\n",
    "3. extract storage types and storage capacity"
   ]
  },
  {
   "cell_type": "markdown",
   "metadata": {
    "slideshow": {
     "slide_type": "skip"
    }
   },
   "source": [
    "### Boulager Dataset\n",
    "Luckly this dataset is pretty clean and we only have to extract a few features from the columns\n",
    "\n",
    "1. extract GPU info from the ports column\n",
    "2. extract storage info like which type of storage and the capacity also do it for laptops with 2 storages\n"
   ]
  },
  {
   "cell_type": "code",
   "execution_count": 5,
   "metadata": {
    "slideshow": {
     "slide_type": "skip"
    }
   },
   "outputs": [],
   "source": [
    "df_fr.ports.value_counts()\n",
    "def extract_gpu_info(string):\n",
    "    \"\"\"extracts the GPU info Using Regrex expressions\n",
    "\n",
    "    Args:\n",
    "        string (str): strin containing gpu info\n",
    "        example: ... RAM 16, GTX 1660TI, 15'in ...\n",
    "    Returns:\n",
    "        tuple(str, int): tuple with a string of GPU generation like RTX or GTX and model number\n",
    "        example: (GTX, 1660)\n",
    "    \"\"\"    \n",
    "    if type(string)!= str:\n",
    "        return \"None\", 0\n",
    "    extract_gpu_type= r'(:?RTX *\\d+| GTX *\\d+ *(Ti)*)'\n",
    "    reg_exp= re.search(extract_gpu_type,string, re.IGNORECASE)\n",
    "    gpu_type= reg_exp[0] if reg_exp else 'None'\n",
    "    gpu_num= int(re.search(r'\\d+', gpu_type, re.IGNORECASE)[0]) if re.search(r'\\d+', gpu_type, re.IGNORECASE) else 0\n",
    "    gpu_brand=  re.search(r'(:?RTX+|GTX)', gpu_type, re.IGNORECASE)[0] if re.search(r'(:?RTX+| GTX)', gpu_type, re.IGNORECASE) else 'None'\n",
    "    return gpu_brand, gpu_num\n",
    "df_fr['gpu_gen']= df_fr.ports.map(lambda x:extract_gpu_info(x)[0])\n",
    "df_fr['gpu_num']= df_fr.ports.map(lambda x:extract_gpu_info(x)[1])\n",
    "df_fr['gpu_info']= df_fr.ports.map(lambda x:extract_gpu_info(x))"
   ]
  },
  {
   "cell_type": "code",
   "execution_count": 6,
   "metadata": {
    "slideshow": {
     "slide_type": "skip"
    }
   },
   "outputs": [
    {
     "data": {
      "text/html": [
       "<div>\n",
       "<style scoped>\n",
       "    .dataframe tbody tr th:only-of-type {\n",
       "        vertical-align: middle;\n",
       "    }\n",
       "\n",
       "    .dataframe tbody tr th {\n",
       "        vertical-align: top;\n",
       "    }\n",
       "\n",
       "    .dataframe thead th {\n",
       "        text-align: right;\n",
       "    }\n",
       "</style>\n",
       "<table border=\"1\" class=\"dataframe\">\n",
       "  <thead>\n",
       "    <tr style=\"text-align: right;\">\n",
       "      <th></th>\n",
       "      <th>Unnamed: 0</th>\n",
       "      <th>text</th>\n",
       "      <th>url</th>\n",
       "      <th>display</th>\n",
       "      <th>refresh_rate</th>\n",
       "      <th>cpu</th>\n",
       "      <th>storage</th>\n",
       "      <th>ram</th>\n",
       "      <th>price</th>\n",
       "      <th>earliest_arrival</th>\n",
       "      <th>...</th>\n",
       "      <th>ram_value</th>\n",
       "      <th>weight_KG</th>\n",
       "      <th>store</th>\n",
       "      <th>gpu_gen</th>\n",
       "      <th>gpu_num</th>\n",
       "      <th>gpu_info</th>\n",
       "      <th>storage_type_1</th>\n",
       "      <th>storage_capacity_1</th>\n",
       "      <th>storage_type_2</th>\n",
       "      <th>storage_capacity_2</th>\n",
       "    </tr>\n",
       "  </thead>\n",
       "  <tbody>\n",
       "    <tr>\n",
       "      <th>0</th>\n",
       "      <td>0</td>\n",
       "      <td>PC Gamer \\n\\t\\t\\t\\t\\t\\t\\n\\t\\t\\t\\t\\t\\t\\tDell\\n\\...</td>\n",
       "      <td>https://www.boulanger.com/ref/1152079</td>\n",
       "      <td>15,6\" Full HD (39,6 cm) - 120 Hz</td>\n",
       "      <td>120 Hz</td>\n",
       "      <td>Intel Core i5 - 10300H : 2,5 GHz / Turboboost ...</td>\n",
       "      <td>SSD 512 Go</td>\n",
       "      <td>Mémoire vive 8 Go - 2,3 kg</td>\n",
       "      <td>1062</td>\n",
       "      <td>chez vous dès vendredi 12 mars</td>\n",
       "      <td>...</td>\n",
       "      <td>8.0</td>\n",
       "      <td>2.3</td>\n",
       "      <td>Boulanger (FR)</td>\n",
       "      <td>None</td>\n",
       "      <td>0</td>\n",
       "      <td>(None, 0)</td>\n",
       "      <td>SSD</td>\n",
       "      <td>512.0</td>\n",
       "      <td>NaN</td>\n",
       "      <td>NaN</td>\n",
       "    </tr>\n",
       "  </tbody>\n",
       "</table>\n",
       "<p>1 rows × 27 columns</p>\n",
       "</div>"
      ],
      "text/plain": [
       "   Unnamed: 0                                               text  \\\n",
       "0           0  PC Gamer \\n\\t\\t\\t\\t\\t\\t\\n\\t\\t\\t\\t\\t\\t\\tDell\\n\\...   \n",
       "\n",
       "                                     url                           display  \\\n",
       "0  https://www.boulanger.com/ref/1152079  15,6\" Full HD (39,6 cm) - 120 Hz   \n",
       "\n",
       "  refresh_rate                                                cpu     storage  \\\n",
       "0       120 Hz  Intel Core i5 - 10300H : 2,5 GHz / Turboboost ...  SSD 512 Go   \n",
       "\n",
       "                          ram  price                earliest_arrival  ...  \\\n",
       "0  Mémoire vive 8 Go - 2,3 kg   1062  chez vous dès vendredi 12 mars  ...   \n",
       "\n",
       "  ram_value weight_KG           store gpu_gen  gpu_num   gpu_info  \\\n",
       "0       8.0       2.3  Boulanger (FR)    None        0  (None, 0)   \n",
       "\n",
       "   storage_type_1  storage_capacity_1  storage_type_2 storage_capacity_2  \n",
       "0             SSD               512.0             NaN                NaN  \n",
       "\n",
       "[1 rows x 27 columns]"
      ]
     },
     "execution_count": 6,
     "metadata": {},
     "output_type": "execute_result"
    }
   ],
   "source": [
    "# create 4 columns: storage_type_1 , storage_capacity_1, storage_type_2, storage_capacity_2\n",
    "def extract_storage_info(string):\n",
    "    \"\"\"extracts the storage types and capacity and handeles the case where some laptops have 2 storages\n",
    "\n",
    "    Args:\n",
    "        string (str): String containg laptop specs. in French\n",
    "        ...Ram 16, Disque Dur 1 TB, SSD 265...\n",
    "    Returns:\n",
    "        tuple(str, int, str, int): (storage type, storage capacity, extra storage type, extra storage capaicity)\n",
    "    \"\"\"    \n",
    "    amount_pattern = r'(?:SSD \\d+|Disque dur \\d+)'\n",
    "    amount_expr = re.compile(amount_pattern, re.IGNORECASE)\n",
    "    occurences= amount_expr.findall(string) #extract all regrex patterns\n",
    "    storage_reg= r'(?:SSD|Disque dur)' # patten to extract storage type\n",
    "    capacity_reg= r'(\\d+)' # pattern to extract capacity\n",
    "\n",
    "    if(len(occurences)==2): # if we have 2 storages\n",
    "        storage_type1= re.search(storage_reg, occurences[0], re.IGNORECASE)\n",
    "        strage_type2= re.search(storage_reg, occurences[1], re.IGNORECASE)\n",
    "        storage_cpacity1= re.search(capacity_reg, occurences[0], re.IGNORECASE)\n",
    "        storage_cpacity2=  re.search(capacity_reg, occurences[1], re.IGNORECASE)\n",
    "        return storage_type1[0], storage_cpacity1[0], strage_type2[0], storage_cpacity2[0]\n",
    "    else:\n",
    "        storage_type1= re.search(storage_reg, occurences[0], re.IGNORECASE)\n",
    "        storage_cpacity1= re.search(capacity_reg, occurences[0], re.IGNORECASE)\n",
    "        return storage_type1[0], storage_cpacity1[0], np.nan, np.nan\n",
    "df_fr['storage_type_1']= df_fr.storage.map(lambda x:extract_storage_info(x)[0])\n",
    "df_fr['storage_capacity_1']= df_fr.storage.map(lambda x:extract_storage_info(x)[1])\n",
    "df_fr['storage_type_2']= df_fr.storage.map(lambda x:extract_storage_info(x)[2])\n",
    "df_fr['storage_capacity_2']= df_fr.storage.map(lambda x:extract_storage_info(x)[3])\n",
    "# turn all 1 terra into 1k GB for consistency\n",
    "df_fr['storage_capacity_1']=df_fr['storage_capacity_1'].map(lambda x: 1000 if float(x)==1 else float(x))\n",
    "df_fr['storage_capacity_2']=df_fr['storage_capacity_2'].map(lambda x: 1000 if float(x)==1 else float(x))\n",
    "df_fr.head(1)"
   ]
  },
  {
   "cell_type": "markdown",
   "metadata": {
    "slideshow": {
     "slide_type": "skip"
    }
   },
   "source": [
    "### Jumia Dataset (Egypt)\n",
    "this Dataset is not very stuctured as all information is in the text column. so it will not be as easy as the last one\n",
    "1. extract GPU info from the ports column\n",
    "2. extract storage info like which type of storage and the capacity also do it for laptops with 2 storages"
   ]
  },
  {
   "cell_type": "code",
   "execution_count": 7,
   "metadata": {
    "slideshow": {
     "slide_type": "skip"
    }
   },
   "outputs": [
    {
     "name": "stdout",
     "output_type": "stream",
     "text": [
      "<class 'pandas.core.frame.DataFrame'>\n",
      "RangeIndex: 45 entries, 0 to 44\n",
      "Data columns (total 18 columns):\n",
      " #   Column              Non-Null Count  Dtype  \n",
      "---  ------              --------------  -----  \n",
      " 0   Unnamed: 0          45 non-null     int64  \n",
      " 1   url                 45 non-null     object \n",
      " 2   text                45 non-null     object \n",
      " 3   discount            45 non-null     object \n",
      " 4   original_price_EPG  45 non-null     object \n",
      " 5   brand               45 non-null     object \n",
      " 6   brand_url           45 non-null     object \n",
      " 7   price               45 non-null     int64  \n",
      " 8   discount_value      45 non-null     int64  \n",
      " 9   ram_value           45 non-null     int64  \n",
      " 10  cpu_name            45 non-null     object \n",
      " 11  cpu_gen             45 non-null     int64  \n",
      " 12  cpu_brand           45 non-null     object \n",
      " 13  store               45 non-null     object \n",
      " 14  storage_type_1      45 non-null     object \n",
      " 15  storage_capacity_1  45 non-null     float64\n",
      " 16  storage_type_2      19 non-null     object \n",
      " 17  storage_capacity_2  19 non-null     float64\n",
      "dtypes: float64(2), int64(5), object(11)\n",
      "memory usage: 6.5+ KB\n"
     ]
    }
   ],
   "source": [
    "# create 4 columns: storage_type_1 , storage_capacity_1, storage_type_2, storage_capacity_2\n",
    "def extract_storage_info(string):\n",
    "    \"\"\"extracts the storage types and capacity and handeles the case where some laptops have 2 storages. handles also missing spaces\n",
    "\n",
    "    Args:\n",
    "        string (str): String containg laptop specs. in English. handeles missing spaces\n",
    "        ...Ram 16, HDD 1 TB, SSD 265...\n",
    "    Returns:\n",
    "        tuple(str, int, str, int): (storage type, storage capacity, extra storage type, extra storage capaicity)\n",
    "    \"\"\"    \n",
    "    amount_pattern = r'(?:\\d+|\\d+ *GB|\\d+ *TB) *(?:SSD|HDD)'\n",
    "    amount_expr = re.compile(amount_pattern, re.IGNORECASE)\n",
    "    occurences= amount_expr.findall(string)\n",
    "    storage_reg= r'(?:SSD|HDD)'\n",
    "    capacity_reg= r'(\\d+)'\n",
    "    if len(occurences) == 0: # if there are no storage info\n",
    "        return np.nan, np.nan, np.nan, np.nan\n",
    "    if(len(occurences)==2): # if we have 2 storages\n",
    "        storage_type1= re.search(storage_reg, occurences[0], re.IGNORECASE)\n",
    "        strage_type2= re.search(storage_reg, occurences[1], re.IGNORECASE)\n",
    "        storage_cpacity1= re.search(capacity_reg, occurences[0], re.IGNORECASE)\n",
    "        storage_cpacity2=  re.search(capacity_reg, occurences[1], re.IGNORECASE)\n",
    "        if(not storage_type1 or not storage_cpacity1 or not strage_type2 or not storage_cpacity2) :\n",
    "            print(string)\n",
    "        return storage_type1[0], storage_cpacity1[0], strage_type2[0], storage_cpacity2[0]\n",
    "    else:\n",
    "        storage_type1= re.search(storage_reg, occurences[0], re.IGNORECASE)\n",
    "        storage_cpacity1= re.search(capacity_reg, occurences[0], re.IGNORECASE)\n",
    "        return storage_type1[0], storage_cpacity1[0], np.nan, np.nan\n",
    "df_eg['storage_type_1']= df_eg.text.map(lambda x:extract_storage_info(x)[0])\n",
    "df_eg['storage_capacity_1']= df_eg.text.map(lambda x:extract_storage_info(x)[1])\n",
    "df_eg['storage_type_2']= df_eg.text.map(lambda x:extract_storage_info(x)[2])\n",
    "df_eg['storage_capacity_2']= df_eg.text.map(lambda x:extract_storage_info(x)[3])\n",
    "# turn all 1 terra into 1k GB for consistency\n",
    "df_eg['storage_capacity_1']=df_eg['storage_capacity_1'].map(lambda x: 1000 if float(x)==1 else float(x))\n",
    "df_eg['storage_capacity_2']=df_eg['storage_capacity_2'].map(lambda x: 1000 if float(x)==1 else float(x))\n",
    "df_eg.info()"
   ]
  },
  {
   "cell_type": "code",
   "execution_count": 8,
   "metadata": {
    "slideshow": {
     "slide_type": "skip"
    }
   },
   "outputs": [
    {
     "data": {
      "text/plain": [
       "(None, 0)       30\n",
       "(GTX, 1660)      7\n",
       "(GTX, 1650)      5\n",
       "(None, 1660)     2\n",
       "(RTX, 2060)      1\n",
       "Name: gpu_info, dtype: int64"
      ]
     },
     "execution_count": 8,
     "metadata": {},
     "output_type": "execute_result"
    }
   ],
   "source": [
    "def extract_gpu_info(string):\n",
    "    \"\"\"extract GPU info like generaion: RTX, GTX \n",
    "    also extract model number like 1060, 1660\n",
    "\n",
    "    Args:\n",
    "        string (str): string containg laptop specs\n",
    "\n",
    "    Returns:\n",
    "        tuple: (gpu generataion, gpu number)\n",
    "    \"\"\"    \n",
    "    if type(string)!= str: # if it is a nan value\n",
    "        return \"None\", 0\n",
    "    extract_gpu_type= r'(?:GTX *(\\d)+|RTX *(\\d)+|(\\d)+ *Ti)'\n",
    "    reg_exp= re.search(extract_gpu_type,string, re.IGNORECASE)\n",
    "    #print(reg_exp[0])\n",
    "    gpu_type= reg_exp[0] if reg_exp else 'None'\n",
    "    gpu_num= int(re.search(r'\\d+', gpu_type, re.IGNORECASE)[0]) if re.search(r'\\d+', gpu_type, re.IGNORECASE) else 0\n",
    "    gpu_brand=  re.search(r'(:?RTX|GTX)', gpu_type, re.IGNORECASE)[0] if re.search(r'(:?RTX+|GTX)', gpu_type, re.IGNORECASE) else 'None'\n",
    "    return gpu_brand, gpu_num\n",
    "df_eg['gpu_gen']= df_eg.text.map(lambda x:extract_gpu_info(x)[0])\n",
    "df_eg['gpu_num']= df_eg.text.map(lambda x:extract_gpu_info(x)[1])\n",
    "df_eg['gpu_info']= df_eg.text.map(lambda x:extract_gpu_info(x))\n",
    "df_eg.gpu_info.value_counts() # cheack the returned values as saanity check\n"
   ]
  },
  {
   "cell_type": "code",
   "execution_count": null,
   "metadata": {},
   "outputs": [],
   "source": []
  },
  {
   "cell_type": "markdown",
   "metadata": {
    "slideshow": {
     "slide_type": "skip"
    }
   },
   "source": [
    "### Amazon Dataset (KSA)"
   ]
  },
  {
   "cell_type": "code",
   "execution_count": 9,
   "metadata": {
    "slideshow": {
     "slide_type": "skip"
    }
   },
   "outputs": [],
   "source": [
    "# extract stoarge info which works on enlish and arabic\n",
    "df_sa['storage_type_1']= df_sa.text.map(lambda x:extract_storage_info(x)[0])\n",
    "df_sa['storage_capacity_1']= df_sa.text.map(lambda x:extract_storage_info(x)[1])\n",
    "df_sa['storage_type_2']= df_sa.text.map(lambda x:extract_storage_info(x)[2])\n",
    "df_sa['storage_capacity_2']= df_sa.text.map(lambda x:extract_storage_info(x)[3])\n",
    "# turn all 1 terra into 1k GB for consistency\n",
    "df_sa['storage_capacity_1']=df_sa['storage_capacity_1'].map(lambda x: 1000 if float(x)==1 else float(x))\n",
    "df_sa['storage_capacity_2']=df_sa['storage_capacity_2'].map(lambda x: 1000 if float(x)==1 else float(x))"
   ]
  },
  {
   "cell_type": "code",
   "execution_count": 10,
   "metadata": {
    "slideshow": {
     "slide_type": "skip"
    }
   },
   "outputs": [
    {
     "data": {
      "text/plain": [
       "(None, 0)       20\n",
       "(GTX, 1650)     13\n",
       "(GTX, 1660)     11\n",
       "(RTX, 2060)     11\n",
       "(RTX, 2070)     10\n",
       "(None, 1660)     3\n",
       "(None, 1650)     2\n",
       "(RTX, 2080)      2\n",
       "(RTX, 3080)      1\n",
       "(GTX, 1050)      1\n",
       "Name: gpu_info, dtype: int64"
      ]
     },
     "execution_count": 10,
     "metadata": {},
     "output_type": "execute_result"
    }
   ],
   "source": [
    "#extract gpu info\n",
    "df_sa['gpu_gen']= df_sa.text.map(lambda x:extract_gpu_info(x)[0])\n",
    "df_sa['gpu_num']= df_sa.text.map(lambda x:extract_gpu_info(x)[1])\n",
    "df_sa['gpu_info']= df_sa.text.map(lambda x:extract_gpu_info(x))\n",
    "df_sa.gpu_info.value_counts()"
   ]
  },
  {
   "cell_type": "code",
   "execution_count": 11,
   "metadata": {
    "slideshow": {
     "slide_type": "skip"
    }
   },
   "outputs": [
    {
     "data": {
      "text/html": [
       "<table class=\"simpletable\">\n",
       "<tr>\n",
       "        <td>Model:</td>               <td>OLS</td>         <td>Adj. R-squared:</td>      <td>0.194</td>  \n",
       "</tr>\n",
       "<tr>\n",
       "  <td>Dependent Variable:</td>       <td>price</td>             <td>AIC:</td>          <td>2811.0689</td>\n",
       "</tr>\n",
       "<tr>\n",
       "         <td>Date:</td>        <td>2021-08-04 16:51</td>        <td>BIC:</td>          <td>2820.4586</td>\n",
       "</tr>\n",
       "<tr>\n",
       "   <td>No. Observations:</td>         <td>169</td>         <td>Log-Likelihood:</td>     <td>-1402.5</td> \n",
       "</tr>\n",
       "<tr>\n",
       "       <td>Df Model:</td>              <td>2</td>           <td>F-statistic:</td>        <td>21.22</td>  \n",
       "</tr>\n",
       "<tr>\n",
       "     <td>Df Residuals:</td>           <td>166</td>       <td>Prob (F-statistic):</td>  <td>6.23e-09</td> \n",
       "</tr>\n",
       "<tr>\n",
       "      <td>R-squared:</td>            <td>0.204</td>            <td>Scale:</td>        <td>9.6326e+05</td>\n",
       "</tr>\n",
       "</table>\n",
       "<table class=\"simpletable\">\n",
       "<tr>\n",
       "         <td></td>            <th>Coef.</th>   <th>Std.Err.</th>    <th>t</th>     <th>P>|t|</th>   <th>[0.025</th>    <th>0.975]</th>  \n",
       "</tr>\n",
       "<tr>\n",
       "  <th>cpu_gen</th>          <td>444.7936</td>   <td>68.7400</td> <td>6.4707</td>  <td>0.0000</td>  <td>309.0762</td>  <td>580.5111</td> \n",
       "</tr>\n",
       "<tr>\n",
       "  <th>cpu_brand_Intel</th>   <td>62.4320</td>  <td>190.9428</td> <td>0.3270</td>  <td>0.7441</td>  <td>-314.5574</td> <td>439.4213</td> \n",
       "</tr>\n",
       "<tr>\n",
       "  <th>intercept</th>       <td>-1160.4428</td> <td>517.4105</td> <td>-2.2428</td> <td>0.0262</td> <td>-2181.9963</td> <td>-138.8894</td>\n",
       "</tr>\n",
       "</table>\n",
       "<table class=\"simpletable\">\n",
       "<tr>\n",
       "     <td>Omnibus:</td>    <td>89.512</td>  <td>Durbin-Watson:</td>    <td>1.199</td> \n",
       "</tr>\n",
       "<tr>\n",
       "  <td>Prob(Omnibus):</td>  <td>0.000</td> <td>Jarque-Bera (JB):</td> <td>392.127</td>\n",
       "</tr>\n",
       "<tr>\n",
       "       <td>Skew:</td>      <td>2.047</td>     <td>Prob(JB):</td>      <td>0.000</td> \n",
       "</tr>\n",
       "<tr>\n",
       "     <td>Kurtosis:</td>    <td>9.239</td>  <td>Condition No.:</td>     <td>49</td>   \n",
       "</tr>\n",
       "</table>"
      ],
      "text/plain": [
       "<class 'statsmodels.iolib.summary2.Summary'>\n",
       "\"\"\"\n",
       "                    Results: Ordinary least squares\n",
       "=======================================================================\n",
       "Model:                OLS               Adj. R-squared:      0.194     \n",
       "Dependent Variable:   price             AIC:                 2811.0689 \n",
       "Date:                 2021-08-04 16:51  BIC:                 2820.4586 \n",
       "No. Observations:     169               Log-Likelihood:      -1402.5   \n",
       "Df Model:             2                 F-statistic:         21.22     \n",
       "Df Residuals:         166               Prob (F-statistic):  6.23e-09  \n",
       "R-squared:            0.204             Scale:               9.6326e+05\n",
       "-----------------------------------------------------------------------\n",
       "                  Coef.    Std.Err.    t    P>|t|    [0.025     0.975] \n",
       "-----------------------------------------------------------------------\n",
       "cpu_gen           444.7936  68.7400  6.4707 0.0000   309.0762  580.5111\n",
       "cpu_brand_Intel    62.4320 190.9428  0.3270 0.7441  -314.5574  439.4213\n",
       "intercept       -1160.4428 517.4105 -2.2428 0.0262 -2181.9963 -138.8894\n",
       "-----------------------------------------------------------------------\n",
       "Omnibus:               89.512         Durbin-Watson:            1.199  \n",
       "Prob(Omnibus):         0.000          Jarque-Bera (JB):         392.127\n",
       "Skew:                  2.047          Prob(JB):                 0.000  \n",
       "Kurtosis:              9.239          Condition No.:            49     \n",
       "=======================================================================\n",
       "\n",
       "\"\"\""
      ]
     },
     "execution_count": 11,
     "metadata": {},
     "output_type": "execute_result"
    }
   ],
   "source": [
    "# aggregate all the data into 1 database\n",
    "cols_in_model= ['price', 'cpu_gen', 'cpu_brand',\n",
    " 'discount_value', 'store', 'storage_type_1',\n",
    "  'storage_type_2', 'storage_capacity_1', 'storage_capacity_2', \n",
    "  'gpu_gen', 'gpu_num', 'gpu_info', 'ram_value']\n",
    "def create_merged_dataset(array_of_datasets: List[pd.DataFrame], cols_to_consider, col_to_predict)-> pd.DataFrame:\n",
    "    cols_to_consider.append(col_to_predict)\n",
    "    df_model= pd.DataFrame()\n",
    "    for dataset in array_of_datasets:\n",
    "        \n",
    "        temp= dataset[cols_to_consider] \n",
    "        for column in temp.columns: # clean rows that have missing values\n",
    "            temp= temp[~temp[column].isna()] # remove all rows that do not have any prediction variable\n",
    "            if temp[column].dtype == pd.Categorical:\n",
    "                temp= temp.join(pd.get_dummies(temp[column], prefix=column, drop_first=True))\n",
    "                temp.drop(column, axis=1 ,inplace=True)\n",
    "        \n",
    "        df_model= pd.concat([df_model,temp]).drop_duplicates().reset_index(drop=True)\n",
    "    # print(df_model)\n",
    "    ## maybe fill na not sure\n",
    "    df_model['intercept']= 1\n",
    "    df_model.fillna(0, inplace=True)\n",
    "    # print(df_model[col_to_predict])\n",
    "\n",
    "    \n",
    "    res = sm.OLS(df_model[col_to_predict], df_model.drop(col_to_predict, axis=1)).fit()\n",
    "    return res, df_model\n",
    "res, _= create_merged_dataset([df_sa, df_eg, df_fr], ['cpu_gen', 'cpu_brand'], 'price')\n",
    "res.summary2()"
   ]
  },
  {
   "cell_type": "markdown",
   "metadata": {
    "slideshow": {
     "slide_type": "slide"
    }
   },
   "source": [
    "# Preform Liner Regression Model to Predict Price\n",
    "\n",
    "here I create a Liner Regression model using both nominal and Categorical features, after One Hot Encoding. \n",
    "the results show we were able to predict 86% of the price using these features and here are my findings:\n",
    "1. the price is more influenced by the generation of the CPU then the brand that sells it\n",
    "2. the price is influenced by wheather there is a GPU or not \n",
    "3. it is also influenced heavly by Storage even more than the amount of ram "
   ]
  },
  {
   "cell_type": "code",
   "execution_count": 12,
   "metadata": {
    "slideshow": {
     "slide_type": "subslide"
    }
   },
   "outputs": [
    {
     "data": {
      "image/png": "[encoded data removed]",
      "text/plain": [
       "<Figure size 720x504 with 2 Axes>"
      ]
     },
     "metadata": {
      "needs_background": "light"
     },
     "output_type": "display_data"
    },
    {
     "data": {
      "text/plain": [
       "Text(0.5, 1.0, 'Correlation Matrix')"
      ]
     },
     "execution_count": 12,
     "metadata": {},
     "output_type": "execute_result"
    },
    {
     "data": {
      "image/png": "[encoded data removed]",
      "text/plain": [
       "<Figure size 1080x360 with 1 Axes>"
      ]
     },
     "metadata": {
      "needs_background": "light"
     },
     "output_type": "display_data"
    }
   ],
   "source": [
    "# create model with these columns\n",
    "res, df_model= create_merged_dataset([df_sa, df_eg, df_fr], ['cpu_gen', 'cpu_brand',\n",
    " 'discount_value', 'store', 'storage_type_1',\n",
    "  'storage_type_2', 'storage_capacity_1', 'storage_capacity_2', \n",
    "  'gpu_gen', 'gpu_num', 'ram_value'], 'price')\n",
    "# correlation plot of the model\n",
    "plt.figure(figsize = [10, 7])\n",
    "sb.heatmap(df_model.corr(), annot = True, fmt = '.3f',\n",
    "        center = 0, cmap= sb.color_palette(\"mako_r\") )\n",
    "plt.show()\n",
    "plt.title('Correlation Matrix')"
   ]
  },
  {
   "cell_type": "markdown",
   "metadata": {
    "slideshow": {
     "slide_type": "subslide"
    }
   },
   "source": [
    "Model Summary"
   ]
  },
  {
   "cell_type": "code",
   "execution_count": 13,
   "metadata": {
    "slideshow": {
     "slide_type": "fragment"
    }
   },
   "outputs": [
    {
     "data": {
      "text/html": [
       "<table class=\"simpletable\">\n",
       "<tr>\n",
       "        <td>Model:</td>               <td>OLS</td>         <td>Adj. R-squared:</td>     <td>0.763</td> \n",
       "</tr>\n",
       "<tr>\n",
       "  <td>Dependent Variable:</td>       <td>price</td>             <td>AIC:</td>         <td>502.8025</td>\n",
       "</tr>\n",
       "<tr>\n",
       "         <td>Date:</td>        <td>2021-08-04 16:51</td>        <td>BIC:</td>         <td>521.8047</td>\n",
       "</tr>\n",
       "<tr>\n",
       "   <td>No. Observations:</td>         <td>36</td>          <td>Log-Likelihood:</td>    <td>-239.40</td>\n",
       "</tr>\n",
       "<tr>\n",
       "       <td>Df Model:</td>             <td>11</td>           <td>F-statistic:</td>       <td>11.22</td> \n",
       "</tr>\n",
       "<tr>\n",
       "     <td>Df Residuals:</td>           <td>24</td>        <td>Prob (F-statistic):</td> <td>5.68e-07</td>\n",
       "</tr>\n",
       "<tr>\n",
       "      <td>R-squared:</td>            <td>0.837</td>            <td>Scale:</td>         <td>52452.</td> \n",
       "</tr>\n",
       "</table>\n",
       "<table class=\"simpletable\">\n",
       "<tr>\n",
       "           <td></td>             <th>Coef.</th>   <th>Std.Err.</th>    <th>t</th>     <th>P>|t|</th>   <th>[0.025</th>    <th>0.975]</th>  \n",
       "</tr>\n",
       "<tr>\n",
       "  <th>cpu_gen</th>              <td>26.7694</td>   <td>67.7007</td> <td>0.3954</td>  <td>0.6960</td>  <td>-112.9581</td> <td>166.4968</td> \n",
       "</tr>\n",
       "<tr>\n",
       "  <th>discount_value</th>       <td>5.3377</td>    <td>5.6752</td>  <td>0.9405</td>  <td>0.3563</td>   <td>-6.3752</td>   <td>17.0507</td> \n",
       "</tr>\n",
       "<tr>\n",
       "  <th>storage_capacity_1</th>   <td>0.3237</td>    <td>0.7903</td>  <td>0.4096</td>  <td>0.6857</td>   <td>-1.3074</td>   <td>1.9548</td>  \n",
       "</tr>\n",
       "<tr>\n",
       "  <th>storage_capacity_2</th>   <td>0.9922</td>    <td>0.3732</td>  <td>2.6588</td>  <td>0.0137</td>   <td>0.2220</td>    <td>1.7623</td>  \n",
       "</tr>\n",
       "<tr>\n",
       "  <th>gpu_num</th>              <td>0.1426</td>    <td>0.1870</td>  <td>0.7626</td>  <td>0.4531</td>   <td>-0.2433</td>   <td>0.5285</td>  \n",
       "</tr>\n",
       "<tr>\n",
       "  <th>ram_value</th>            <td>4.9164</td>    <td>18.8084</td> <td>0.2614</td>  <td>0.7960</td>  <td>-33.9022</td>   <td>43.7351</td> \n",
       "</tr>\n",
       "<tr>\n",
       "  <th>cpu_brand_Intel</th>      <td>80.3849</td>  <td>155.2213</td> <td>0.5179</td>  <td>0.6093</td>  <td>-239.9762</td> <td>400.7460</td> \n",
       "</tr>\n",
       "<tr>\n",
       "  <th>storage_type_1_SSD</th> <td>-1291.7134</td> <td>590.9603</td> <td>-2.1858</td> <td>0.0388</td> <td>-2511.3955</td> <td>-72.0312</td> \n",
       "</tr>\n",
       "<tr>\n",
       "  <th>storage_type_2_SSD</th>  <td>-794.5141</td> <td>121.5117</td> <td>-6.5386</td> <td>0.0000</td> <td>-1045.3019</td> <td>-543.7262</td>\n",
       "</tr>\n",
       "<tr>\n",
       "  <th>gpu_gen_None</th>        <td>332.9597</td>  <td>288.8319</td> <td>1.1528</td>  <td>0.2604</td>  <td>-263.1600</td> <td>929.0794</td> \n",
       "</tr>\n",
       "<tr>\n",
       "  <th>gpu_gen_RTX</th>         <td>-262.0193</td> <td>220.6039</td> <td>-1.1877</td> <td>0.2466</td>  <td>-717.3234</td> <td>193.2848</td> \n",
       "</tr>\n",
       "<tr>\n",
       "  <th>intercept</th>           <td>575.8472</td>  <td>874.5659</td> <td>0.6584</td>  <td>0.5165</td> <td>-1229.1682</td> <td>2380.8626</td>\n",
       "</tr>\n",
       "</table>\n",
       "<table class=\"simpletable\">\n",
       "<tr>\n",
       "     <td>Omnibus:</td>    <td>7.184</td>  <td>Durbin-Watson:</td>   <td>1.866</td>\n",
       "</tr>\n",
       "<tr>\n",
       "  <td>Prob(Omnibus):</td> <td>0.028</td> <td>Jarque-Bera (JB):</td> <td>6.090</td>\n",
       "</tr>\n",
       "<tr>\n",
       "       <td>Skew:</td>     <td>0.985</td>     <td>Prob(JB):</td>     <td>0.048</td>\n",
       "</tr>\n",
       "<tr>\n",
       "     <td>Kurtosis:</td>   <td>3.419</td>  <td>Condition No.:</td>   <td>40366</td>\n",
       "</tr>\n",
       "</table>"
      ],
      "text/plain": [
       "<class 'statsmodels.iolib.summary2.Summary'>\n",
       "\"\"\"\n",
       "                     Results: Ordinary least squares\n",
       "==========================================================================\n",
       "Model:                 OLS                 Adj. R-squared:        0.763   \n",
       "Dependent Variable:    price               AIC:                   502.8025\n",
       "Date:                  2021-08-04 16:51    BIC:                   521.8047\n",
       "No. Observations:      36                  Log-Likelihood:        -239.40 \n",
       "Df Model:              11                  F-statistic:           11.22   \n",
       "Df Residuals:          24                  Prob (F-statistic):    5.68e-07\n",
       "R-squared:             0.837               Scale:                 52452.  \n",
       "--------------------------------------------------------------------------\n",
       "                     Coef.    Std.Err.    t    P>|t|    [0.025     0.975] \n",
       "--------------------------------------------------------------------------\n",
       "cpu_gen               26.7694  67.7007  0.3954 0.6960  -112.9581  166.4968\n",
       "discount_value         5.3377   5.6752  0.9405 0.3563    -6.3752   17.0507\n",
       "storage_capacity_1     0.3237   0.7903  0.4096 0.6857    -1.3074    1.9548\n",
       "storage_capacity_2     0.9922   0.3732  2.6588 0.0137     0.2220    1.7623\n",
       "gpu_num                0.1426   0.1870  0.7626 0.4531    -0.2433    0.5285\n",
       "ram_value              4.9164  18.8084  0.2614 0.7960   -33.9022   43.7351\n",
       "cpu_brand_Intel       80.3849 155.2213  0.5179 0.6093  -239.9762  400.7460\n",
       "storage_type_1_SSD -1291.7134 590.9603 -2.1858 0.0388 -2511.3955  -72.0312\n",
       "storage_type_2_SSD  -794.5141 121.5117 -6.5386 0.0000 -1045.3019 -543.7262\n",
       "gpu_gen_None         332.9597 288.8319  1.1528 0.2604  -263.1600  929.0794\n",
       "gpu_gen_RTX         -262.0193 220.6039 -1.1877 0.2466  -717.3234  193.2848\n",
       "intercept            575.8472 874.5659  0.6584 0.5165 -1229.1682 2380.8626\n",
       "--------------------------------------------------------------------------\n",
       "Omnibus:                 7.184           Durbin-Watson:              1.866\n",
       "Prob(Omnibus):           0.028           Jarque-Bera (JB):           6.090\n",
       "Skew:                    0.985           Prob(JB):                   0.048\n",
       "Kurtosis:                3.419           Condition No.:              40366\n",
       "==========================================================================\n",
       "* The condition number is large (4e+04). This might indicate\n",
       "strong multicollinearity or other numerical problems.\n",
       "\"\"\""
      ]
     },
     "execution_count": 13,
     "metadata": {},
     "output_type": "execute_result"
    }
   ],
   "source": [
    "res.summary2()"
   ]
  },
  {
   "cell_type": "code",
   "execution_count": 14,
   "metadata": {
    "slideshow": {
     "slide_type": "skip"
    }
   },
   "outputs": [],
   "source": [
    "# print P values shwoing the influence of the features relative to the price\n",
    "res, df_model= create_merged_dataset([df_sa, df_eg, df_fr], ['cpu_gen', 'cpu_brand',\n",
    " 'discount_value', 'store', 'storage_type_1',\n",
    "  'storage_type_2', 'storage_capacity_1', 'storage_capacity_2', \n",
    "  'gpu_gen', 'gpu_num', 'ram_value'], 'price')\n",
    "# correlation plot\n",
    "df_pval= pd.DataFrame({'categories': res.pvalues})\n",
    "# df_val= df_val.pivot(columns='bar', values=['baz', 'zoo'])\n",
    "# df_pval.columns=['price']\n",
    "cat=[]\n",
    "p=[]\n",
    "for i in res.pvalues.index:\n",
    "        cat.append(i)\n",
    "        p.append(res.pvalues[i])\n",
    "pd.DataFrame({'cat': cat, 'p': p});"
   ]
  },
  {
   "cell_type": "markdown",
   "metadata": {
    "slideshow": {
     "slide_type": "slide"
    }
   },
   "source": [
    "# hypothesis testing \n",
    "we will assume an $\\alpha$ of 0.5\n",
    "\n",
    "## Hypothesis 1\n",
    "\n",
    "it is comman to think that in contries with less curency value Big companies sell on average cheaper products. we will test this hypothesis using Bootstaping and P-values.\n",
    "\n",
    "### Null Hypothesis\n",
    "\n",
    "$H0: \\mu$ <sub>Egypt</sub> >= $\\mu$ <sub>Saudi</sub> or $\\mu$ <sub>Saudi</sub> - $\\mu$ <sub>Egypt</sub> > 0\n",
    "\n",
    "### Alternative Hypothesis\n",
    "$H1: \\mu$ <sub>Egypt</sub> < $\\mu$ <sub>Saudi</sub> or $\\mu$ <sub>Saudi</sub> - $\\mu$ <sub>Egypt</sub> <= 0\n",
    "\n"
   ]
  },
  {
   "cell_type": "code",
   "execution_count": 15,
   "metadata": {
    "slideshow": {
     "slide_type": "skip"
    }
   },
   "outputs": [],
   "source": [
    "# get the mean of the saudi arabian daataset\n",
    "mean_saudi= df_laptop[df_laptop.store=='Amazon (SA)'].price.mean()\n",
    "# get the mean of the egyptian dataset\n",
    "mean_egypt= df_laptop[df_laptop.store=='Jumia (EG)'].price.mean()\n",
    "observed_mean= mean_saudi- mean_egypt\n",
    "# bootstraping\n",
    "sample_size=200\n",
    "samples= 10_000\n",
    "dist_diff= []\n",
    "for _ in range(samples):\n",
    "    df_sample_egypt= df_laptop[df_laptop.store=='Jumia (EG)'].sample(sample_size, replace=True)\n",
    "    df_sample_saudi= df_laptop[df_laptop.store=='Amazon (SA)'].sample(sample_size, replace=True)\n",
    "    mean_egy= df_sample_egypt.price.mean()\n",
    "    mean_saudi= df_sample_saudi.price.mean()\n",
    "    dist_diff.append(mean_saudi-mean_egy)\n",
    "dist_diff= np.array(dist_diff)"
   ]
  },
  {
   "cell_type": "code",
   "execution_count": null,
   "metadata": {},
   "outputs": [],
   "source": []
  },
  {
   "cell_type": "code",
   "execution_count": 16,
   "metadata": {
    "slideshow": {
     "slide_type": "subslide"
    }
   },
   "outputs": [
    {
     "data": {
      "image/png": "[encoded data removed]",
      "text/plain": [
       "<Figure size 1080x360 with 1 Axes>"
      ]
     },
     "metadata": {
      "needs_background": "light"
     },
     "output_type": "display_data"
    }
   ],
   "source": [
    "plt.hist(dist_diff, bins=20);\n",
    "plt.title('Bootstraping Mean Diffrence Distribution');\n",
    "plt.xlabel('diffrence on mean');\n",
    "plt.ylabel('count');"
   ]
  },
  {
   "cell_type": "code",
   "execution_count": 17,
   "metadata": {
    "slideshow": {
     "slide_type": "subslide"
    }
   },
   "outputs": [
    {
     "name": "stdout",
     "output_type": "stream",
     "text": [
      "P-value= 0.0 of 1 sided Hypothesis test to the right of the observed mean\n"
     ]
    },
    {
     "data": {
      "image/png": "[encoded data removed]",
      "text/plain": [
       "<Figure size 1080x360 with 1 Axes>"
      ]
     },
     "metadata": {
      "needs_background": "light"
     },
     "output_type": "display_data"
    }
   ],
   "source": [
    "# simulate the null\n",
    "null_dist= np.random.normal(0, dist_diff.std(), size=10_0000)\n",
    "print(f'P-value= {(null_dist > observed_mean).mean()} of 1 sided Hypothesis test to the right of the observed mean')\n",
    "plt.hist(null_dist, bins=20)\n",
    "plt.axvline(observed_mean, color='red');\n",
    "plt.ylabel('count');\n",
    "plt.title('Sample Distribution Under the Null: that the diffrence is 0');"
   ]
  },
  {
   "cell_type": "code",
   "execution_count": null,
   "metadata": {},
   "outputs": [],
   "source": []
  },
  {
   "cell_type": "markdown",
   "metadata": {},
   "source": []
  },
  {
   "cell_type": "markdown",
   "metadata": {
    "slideshow": {
     "slide_type": "slide"
    }
   },
   "source": [
    "## Hypothesis 2\n",
    "\n",
    "it is comman to think that in contries with less curency value Big companies sell on average cheaper products. we will test this hypothesis using Bootstaping and P-values.\n",
    "\n",
    "### Null Hypothesis\n",
    "\n",
    "$H0: \\mu$ <sub>Saudi</sub> >= $\\mu$ <sub>France</sub> or $\\mu$ <sub>France</sub> - $\\mu$ <sub>Saudi</sub> > 0\n",
    "\n",
    "### Alternative Hypothesis\n",
    "$H1: \\mu$ <sub>Saudi</sub> < $\\mu$ <sub>France</sub> or $\\mu$ <sub>France</sub> - $\\mu$ <sub>Saudi</sub> <= 0\n",
    "\n"
   ]
  },
  {
   "cell_type": "code",
   "execution_count": 18,
   "metadata": {
    "slideshow": {
     "slide_type": "skip"
    }
   },
   "outputs": [
    {
     "name": "stdout",
     "output_type": "stream",
     "text": [
      "saudi mean= 1825.4444444444443, france mean= 2384.0365853658536, observed_mean= 558.5921409214093\n"
     ]
    }
   ],
   "source": [
    "mean_saudi= df_laptop[df_laptop.store=='Amazon (SA)'].price.mean()\n",
    "mean_france= df_laptop[df_laptop.store=='Boulanger (FR)'].price.mean()\n",
    "observed_mean= mean_france- mean_saudi\n",
    "print(f'saudi mean= {mean_saudi}, france mean= {mean_france}, observed_mean= {observed_mean}')\n",
    "# bootstraping\n",
    "sample_size=50\n",
    "samples= 10_00\n",
    "dist_diff= []\n",
    "for _ in range(samples):\n",
    "    df_sample_france= df_laptop[df_laptop.store=='Boulanger (FR)'].sample(sample_size, replace=True)\n",
    "    df_sample_saudi= df_laptop[df_laptop.store=='Amazon (SA)'].sample(sample_size, replace=True)\n",
    "    mean_france= df_sample_france.price.mean()\n",
    "    mean_saudi= df_sample_saudi.price.mean()\n",
    "    dist_diff.append(mean_france- mean_saudi)\n",
    "dist_diff= np.array(dist_diff);\n",
    "(dist_diff > 0).sum();"
   ]
  },
  {
   "cell_type": "code",
   "execution_count": 19,
   "metadata": {
    "slideshow": {
     "slide_type": "subslide"
    }
   },
   "outputs": [
    {
     "data": {
      "image/png": "[encoded data removed]",
      "text/plain": [
       "<Figure size 1080x360 with 1 Axes>"
      ]
     },
     "metadata": {
      "needs_background": "light"
     },
     "output_type": "display_data"
    }
   ],
   "source": [
    "plt.hist(dist_diff, bins=20);\n",
    "plt.title('Bootstraping Mean Diffrence Distribution');\n",
    "plt.ylabel('count');"
   ]
  },
  {
   "cell_type": "code",
   "execution_count": 20,
   "metadata": {
    "slideshow": {
     "slide_type": "subslide"
    }
   },
   "outputs": [
    {
     "name": "stdout",
     "output_type": "stream",
     "text": [
      "P-value= 0.00554 of 1 sided Hypothesis test to the right of the observed mean\n"
     ]
    },
    {
     "data": {
      "image/png": "[encoded data removed]",
      "text/plain": [
       "<Figure size 1080x360 with 1 Axes>"
      ]
     },
     "metadata": {
      "needs_background": "light"
     },
     "output_type": "display_data"
    }
   ],
   "source": [
    "# simulate the null\n",
    "null_dist= np.random.normal(0, dist_diff.std(), size=10_0000)\n",
    "print(f'P-value= {(null_dist > observed_mean).mean()} of 1 sided Hypothesis test to the right of the observed mean')\n",
    "plt.hist(null_dist, bins=20)\n",
    "plt.axvline(observed_mean, color='red');\n",
    "plt.title('Bootstraping Sample Distribution under the Null');\n",
    "plt.ylabel('count');"
   ]
  },
  {
   "cell_type": "markdown",
   "metadata": {
    "slideshow": {
     "slide_type": "subslide"
    }
   },
   "source": [
    "## Conclustion\n",
    "It is Clear we were able to reject the null as we got a 0.0 on the first test and 0.00357 on the second with a threshold of 0.05.\n",
    "\n",
    "\n",
    "which means that the average price of Laptops in france exeeds that of Egypt and Saudi Arabia."
   ]
  },
  {
   "cell_type": "markdown",
   "metadata": {
    "slideshow": {
     "slide_type": "slide"
    }
   },
   "source": [
    "# Price vs Discount\n",
    "Here I am looking at wheather there are any trends between the price of a laptop and discounted value on it. also looking at this relative to each store\n",
    "\n",
    "There does not seem to be a relation between Price and discount\n",
    "\n",
    "There is a relation between the store and the price and discount as Boulanger (FR) has higher prices but also higher discounts comapre to Jumia (EG)"
   ]
  },
  {
   "cell_type": "code",
   "execution_count": 21,
   "metadata": {
    "slideshow": {
     "slide_type": "subslide"
    }
   },
   "outputs": [
    {
     "data": {
      "image/png": "[encoded data removed]",
      "text/plain": [
       "<Figure size 1080x360 with 1 Axes>"
      ]
     },
     "metadata": {
      "needs_background": "light"
     },
     "output_type": "display_data"
    }
   ],
   "source": [
    "df_vis= df_laptop.copy()\n",
    "df_vis= df_vis[~(df_vis.discount_value ==0)] # remove laptops that had no discounts\n",
    "# scatter plot of the price vs Discount \n",
    "markers= [['Jumia (EG)', '^'], ['Boulanger (FR)', 's']]\n",
    "for i, (category, marker) in enumerate(markers):\n",
    "    temp= df_vis[df_vis['store']== category]\n",
    "    sb.regplot(data = temp, x = 'price', y = 'discount_value', marker = marker, fit_reg=False, x_jitter=0.04, color=sb.color_palette(\"Set2\")[i]); \n",
    "\n",
    "plt.legend(labels=['Jumia (EG)', 'Boulanger (FR)']);\n",
    "plt.title('Price vs Discount per store')\n",
    "plt.xlabel('Price in US dollars')\n",
    "plt.ylabel('Discount in %');"
   ]
  },
  {
   "cell_type": "markdown",
   "metadata": {
    "slideshow": {
     "slide_type": "slide"
    }
   },
   "source": [
    "# GPU generation VS CPU\n",
    "As you know Gaming requires both GPU and CPU.\n",
    "the Nivida GPU are categorized into 2 categorize RTX, GTX with the former being the stronger more expensive one\n",
    "\n",
    "here we see the frequency where each cpu Generation is paired with a gpu generation\n",
    "\n",
    "1. from the 1st set of plots it is clear that the I7 is the most famous of the CPU geneartions and the RTX is the most famous of the GPU generations\n",
    "\n",
    "2. the 2nd set of plots shows the relative paring between CPU's of each brand and the GPU generation. form this plot it seems that Intel is more widley acceoted over all and it is used a lot in laptops without a gaming GPU while AMD seems to be more gaming focues"
   ]
  },
  {
   "cell_type": "code",
   "execution_count": 27,
   "metadata": {
    "slideshow": {
     "slide_type": "subslide"
    }
   },
   "outputs": [
    {
     "data": {
      "image/png": "[encoded data removed]",
      "text/plain": [
       "<Figure size 1512x216 with 3 Axes>"
      ]
     },
     "metadata": {
      "needs_background": "light"
     },
     "output_type": "display_data"
    }
   ],
   "source": [
    "# create facegrid based on category\n",
    "# create a full dataset of all the 3 sub datasets after feature extraction\n",
    "df_full= pd.concat([df_fr,df_eg, df_sa]).drop_duplicates().reset_index(drop=True)\n",
    "# remove rows with no GPU or CPU info\n",
    "df_vis= df_full[~df_full.gpu_gen.isna()]\n",
    "df_vis= df_full[~df_full.cpu_gen.isna()]\n",
    "# make CPU generation an integer\n",
    "df_vis['cpu_gen']= df_full.cpu_gen.map(lambda x: int(x))\n",
    "# remove older CPU like Gen 1 and gen 3 as AMD was not established company back then\n",
    "df_vis= df_vis[df_vis.cpu_gen > 3]\n",
    "# sb.barplot(data=df_vis, x='VClass', y='comb', color=base_color, errwidth=0)\n",
    "df_vis.groupby(['cpu_gen', 'gpu_gen']).count()\n",
    "# vis\n",
    "g = sb.FacetGrid(data = df_vis, col = 'cpu_gen', col_wrap = 7)\n",
    "g.map(sb.countplot, \"gpu_gen\");\n",
    "g.set_axis_labels(\"GPU generation\", \"Count\")\n",
    "g.set_titles('CPU generation 5','CPU generation 7', 'CPU generation 9');\n",
    "# plt.suptitle(\"Relation between CPU generation and the paired up GPU generation\", y = 1.04);"
   ]
  },
  {
   "cell_type": "code",
   "execution_count": 23,
   "metadata": {
    "slideshow": {
     "slide_type": "subslide"
    }
   },
   "outputs": [
    {
     "data": {
      "image/png": "[encoded data removed]",
      "text/plain": [
       "<Figure size 864x360 with 2 Axes>"
      ]
     },
     "metadata": {
      "needs_background": "light"
     },
     "output_type": "display_data"
    }
   ],
   "source": [
    "# create stacked bar charts + relative bar chart of CPu brand and GPU paired with it\n",
    "cat1_order = ['Intel', 'AMD']\n",
    "cat2_order = ['RTX', 'GTX', 'None']\n",
    "\n",
    "plt.figure(figsize = [12, 5])\n",
    "\n",
    "# left plot: clustered bar chart of absolute counts\n",
    "plt.subplot(1, 2, 1)\n",
    "sb.countplot(data = df_fr, x = 'cpu_brand', hue = 'gpu_gen',\n",
    "             order = cat1_order, hue_order = cat2_order)\n",
    "plt.legend()\n",
    "\n",
    "\n",
    "# right plot: stacked bar chart to show relative numbers\n",
    "plt.subplot(1, 2, 2)\n",
    "df= df_full\n",
    "baselines = np.zeros(len(cat1_order))\n",
    "# for each second-variable category:\n",
    "for i in range(len(cat2_order)):\n",
    "    # isolate the counts of the first category,\n",
    "    cat2 = cat2_order[i]\n",
    "    inner_counts = df[df['gpu_gen'] == cat2]['cpu_brand'].value_counts()\n",
    "    # then plot those counts on top of the accumulated baseline\n",
    "    plt.bar(x = np.arange(len(cat1_order)), height = inner_counts[cat1_order],\n",
    "            bottom = baselines)\n",
    "    baselines += inner_counts[cat1_order]\n",
    "\n",
    "plt.xticks(np.arange(len(cat1_order)), cat1_order)\n",
    "plt.legend(cat2_order);\n",
    "plt.suptitle(\"number of laptops with CPU and specific GPU generation\", y = 1.04);"
   ]
  },
  {
   "cell_type": "code",
   "execution_count": null,
   "metadata": {
    "slideshow": {
     "slide_type": "skip"
    }
   },
   "outputs": [],
   "source": []
  },
  {
   "cell_type": "markdown",
   "metadata": {
    "slideshow": {
     "slide_type": "slide"
    }
   },
   "source": [
    "## the average price for each combination of CPU and GPU generations\n",
    "\n",
    "it is clear that the RTX with 9th gen is the most impressive\n",
    "but what I think is worth noting is that 9th Gen Cpu without a GPU actually come in second place. which shows that most of the price diffrence is due to the CPU"
   ]
  },
  {
   "cell_type": "code",
   "execution_count": 24,
   "metadata": {
    "slideshow": {
     "slide_type": "subslide"
    }
   },
   "outputs": [
    {
     "data": {
      "image/png": "[encoded data removed]",
      "text/plain": [
       "<Figure size 1080x360 with 2 Axes>"
      ]
     },
     "metadata": {
      "needs_background": "light"
     },
     "output_type": "display_data"
    }
   ],
   "source": [
    "# create Heatmap of average price of each category\n",
    "df= df_vis\n",
    "cat_means = df.groupby(['cpu_gen', 'gpu_gen']).mean()['price']\n",
    "cat_means = cat_means.reset_index(name = 'price_avg')\n",
    "cat_means = cat_means.pivot(index = 'cpu_gen', columns = 'gpu_gen',\n",
    "                            values = 'price_avg')\n",
    "sb.heatmap(cat_means, annot = True, fmt = '.3f',\n",
    "           cbar_kws = {'label' : 'average price in US dollars'});\n",
    "plt.title('Mean Price of Laptops based on availaible GPU and CPU generations');\n",
    "plt.xlabel('GPU generation')\n",
    "plt.ylabel('CPU generation');"
   ]
  },
  {
   "cell_type": "markdown",
   "metadata": {
    "slideshow": {
     "slide_type": "subslide"
    }
   },
   "source": [
    "this plot shows a huge **limitation** with the above analysis as the data is pretty concentrated in some categories and very sparse in others. "
   ]
  },
  {
   "cell_type": "code",
   "execution_count": 25,
   "metadata": {
    "slideshow": {
     "slide_type": "fragment"
    }
   },
   "outputs": [
    {
     "data": {
      "image/png": "[encoded data removed]",
      "text/plain": [
       "<Figure size 1080x360 with 2 Axes>"
      ]
     },
     "metadata": {
      "needs_background": "light"
     },
     "output_type": "display_data"
    }
   ],
   "source": [
    "df= df_vis\n",
    "cat_means = df.groupby(['cpu_gen', 'gpu_gen']).nunique()['text']\n",
    "cat_means = cat_means.reset_index(name = 'price_avg')\n",
    "cat_means = cat_means.pivot(index = 'cpu_gen', columns = 'gpu_gen',\n",
    "                            values = 'price_avg')\n",
    "sb.heatmap(cat_means, annot = True,\n",
    "           cbar_kws = {'label' : 'number of laptops'});\n",
    "plt.title('number of laptops in each category')\n",
    "plt.xlabel('GPU generation')\n",
    "plt.ylabel('CPU generation');"
   ]
  },
  {
   "cell_type": "code",
   "execution_count": null,
   "metadata": {
    "slideshow": {
     "slide_type": "skip"
    }
   },
   "outputs": [],
   "source": []
  },
  {
   "cell_type": "code",
   "execution_count": 26,
   "metadata": {
    "slideshow": {
     "slide_type": "skip"
    }
   },
   "outputs": [
    {
     "name": "stdout",
     "output_type": "stream",
     "text": [
      "Done\n"
     ]
    },
    {
     "name": "stderr",
     "output_type": "stream",
     "text": [
      "[NbConvertApp] Converting notebook explanatory.ipynb to slides\n",
      "[NbConvertApp] Writing 496250 bytes to explanatory.slides.html\n",
      "[NbConvertApp] Redirecting reveal.js requests to https://cdnjs.cloudflare.com/ajax/libs/reveal.js/3.5.0\n",
      "Traceback (most recent call last):\n",
      "  File \"C:\\Users\\Karim\\anaconda3\\Scripts\\jupyter-nbconvert-script.py\", line 10, in <module>\n",
      "    sys.exit(main())\n",
      "  File \"C:\\Users\\Karim\\anaconda3\\lib\\site-packages\\jupyter_core\\application.py\", line 268, in launch_instance\n",
      "    return super(JupyterApp, cls).launch_instance(argv=argv, **kwargs)\n",
      "  File \"C:\\Users\\Karim\\anaconda3\\lib\\site-packages\\traitlets\\config\\application.py\", line 664, in launch_instance\n",
      "    app.start()\n",
      "  File \"C:\\Users\\Karim\\anaconda3\\lib\\site-packages\\nbconvert\\nbconvertapp.py\", line 340, in start\n",
      "    self.convert_notebooks()\n",
      "  File \"C:\\Users\\Karim\\anaconda3\\lib\\site-packages\\nbconvert\\nbconvertapp.py\", line 510, in convert_notebooks\n",
      "    self.convert_single_notebook(notebook_filename)\n",
      "  File \"C:\\Users\\Karim\\anaconda3\\lib\\site-packages\\nbconvert\\nbconvertapp.py\", line 483, in convert_single_notebook\n",
      "    self.postprocess_single_notebook(write_results)\n",
      "  File \"C:\\Users\\Karim\\anaconda3\\lib\\site-packages\\nbconvert\\nbconvertapp.py\", line 455, in postprocess_single_notebook\n",
      "    self.postprocessor(write_results)\n",
      "  File \"C:\\Users\\Karim\\anaconda3\\lib\\site-packages\\nbconvert\\postprocessors\\base.py\", line 28, in __call__\n",
      "    self.postprocess(input)\n",
      "  File \"C:\\Users\\Karim\\anaconda3\\lib\\site-packages\\nbconvert\\postprocessors\\serve.py\", line 90, in postprocess\n",
      "    http_server.listen(self.port, address=self.ip)\n",
      "  File \"C:\\Users\\Karim\\anaconda3\\lib\\site-packages\\tornado\\tcpserver.py\", line 151, in listen\n",
      "    sockets = bind_sockets(port, address=address)\n",
      "  File \"C:\\Users\\Karim\\anaconda3\\lib\\site-packages\\tornado\\netutil.py\", line 174, in bind_sockets\n",
      "    sock.bind(sockaddr)\n",
      "OSError: [WinError 10048] Only one usage of each socket address (protocol/network address/port) is normally permitted\n"
     ]
    }
   ],
   "source": [
    "!jupyter nbconvert explanatory.ipynb --to slides --post serve  --no-input --no-prompt\n",
    "print('Done')"
   ]
  },
  {
   "cell_type": "code",
   "execution_count": null,
   "metadata": {},
   "outputs": [],
   "source": []
  },
  {
   "cell_type": "code",
   "execution_count": null,
   "metadata": {},
   "outputs": [],
   "source": []
  },
  {
   "cell_type": "code",
   "execution_count": null,
   "metadata": {},
   "outputs": [],
   "source": []
  },
  {
   "cell_type": "code",
   "execution_count": null,
   "metadata": {},
   "outputs": [],
   "source": []
  }
 ],
 "metadata": {
  "celltoolbar": "Diaporama",
  "interpreter": {
   "hash": "8af4606693f0e36ae6f05bb9ddeb2d0e090c80306bbf53659d9d3d816d04ffb7"
  },
  "kernelspec": {
   "display_name": "Python 3",
   "language": "python",
   "name": "python3"
  },
  "language_info": {
   "codemirror_mode": {
    "name": "ipython",
    "version": 3
   },
   "file_extension": ".py",
   "mimetype": "text/x-python",
   "name": "python",
   "nbconvert_exporter": "python",
   "pygments_lexer": "ipython3",
   "version": "3.7.6"
  }
 },
 "nbformat": 4,
 "nbformat_minor": 2
}
